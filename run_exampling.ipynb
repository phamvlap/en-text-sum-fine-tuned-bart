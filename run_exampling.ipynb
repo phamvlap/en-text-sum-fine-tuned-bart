{
 "cells": [
  {
   "cell_type": "markdown",
   "metadata": {},
   "source": [
    "# Fetching and setup"
   ]
  },
  {
   "cell_type": "code",
   "execution_count": 1,
   "metadata": {
    "_cell_guid": "b1076dfc-b9ad-4769-8c92-a6c4dae69d19",
    "_uuid": "8f2839f25d086af736a60e9eeb907d3b93b6e0e5",
    "execution": {
     "iopub.execute_input": "2024-11-19T01:32:11.976270Z",
     "iopub.status.busy": "2024-11-19T01:32:11.975922Z",
     "iopub.status.idle": "2024-11-19T01:32:13.879839Z",
     "shell.execute_reply": "2024-11-19T01:32:13.878748Z",
     "shell.execute_reply.started": "2024-11-19T01:32:11.976219Z"
    }
   },
   "outputs": [
    {
     "name": "stdout",
     "output_type": "stream",
     "text": [
      "Cloning into 'en-text-sum-fine-tuned-bart'...\n",
      "remote: Enumerating objects: 1181, done.\u001b[K\n",
      "remote: Counting objects: 100% (177/177), done.\u001b[K\n",
      "remote: Compressing objects: 100% (94/94), done.\u001b[K\n",
      "remote: Total 1181 (delta 115), reused 134 (delta 79), pack-reused 1004 (from 1)\u001b[K\n",
      "Receiving objects: 100% (1181/1181), 1.74 MiB | 11.81 MiB/s, done.\n",
      "Resolving deltas: 100% (777/777), done.\n"
     ]
    }
   ],
   "source": [
    "!git clone https://github.com/phamvlap/en-text-sum-fine-tuned-bart.git"
   ]
  },
  {
   "cell_type": "code",
   "execution_count": 2,
   "metadata": {
    "execution": {
     "iopub.execute_input": "2024-11-19T01:32:13.882426Z",
     "iopub.status.busy": "2024-11-19T01:32:13.881865Z",
     "iopub.status.idle": "2024-11-19T01:33:03.954662Z",
     "shell.execute_reply": "2024-11-19T01:33:03.953556Z",
     "shell.execute_reply.started": "2024-11-19T01:32:13.882393Z"
    }
   },
   "outputs": [
    {
     "name": "stdout",
     "output_type": "stream",
     "text": [
      "Cloning into 'text-summarization-finetuned-bart'...\n",
      "remote: Enumerating objects: 14, done.\u001b[K\n",
      "remote: Counting objects: 100% (11/11), done.\u001b[K\n",
      "remote: Compressing objects: 100% (10/10), done.\u001b[K\n",
      "remote: Total 14 (delta 1), reused 0 (delta 0), pack-reused 3 (from 1)\u001b[K\n",
      "Unpacking objects: 100% (14/14), 528.81 KiB | 5.45 MiB/s, done.\n"
     ]
    }
   ],
   "source": [
    "!git clone https://huggingface.co/phamvlap/text-summarization-finetuned-bart"
   ]
  },
  {
   "cell_type": "code",
   "execution_count": 3,
   "metadata": {
    "execution": {
     "iopub.execute_input": "2024-11-19T01:33:03.956269Z",
     "iopub.status.busy": "2024-11-19T01:33:03.955962Z",
     "iopub.status.idle": "2024-11-19T01:33:05.069147Z",
     "shell.execute_reply": "2024-11-19T01:33:05.067907Z",
     "shell.execute_reply.started": "2024-11-19T01:33:03.956235Z"
    }
   },
   "outputs": [
    {
     "name": "stdout",
     "output_type": "stream",
     "text": [
      "/kaggle/working/en-text-sum-fine-tuned-bart\n"
     ]
    }
   ],
   "source": [
    "%cd en-text-sum-fine-tuned-bart\n",
    "\n",
    "import os, shutil\n",
    "\n",
    "for dir in ['tokenizer-bart', 'checkpoints']:\n",
    "    if os.path.exists(dir):\n",
    "        shutil.rmtree(dir)\n",
    "\n",
    "!mkdir tokenizer-bart checkpoints"
   ]
  },
  {
   "cell_type": "code",
   "execution_count": 4,
   "metadata": {
    "execution": {
     "iopub.execute_input": "2024-11-19T01:33:05.072127Z",
     "iopub.status.busy": "2024-11-19T01:33:05.071757Z",
     "iopub.status.idle": "2024-11-19T01:33:10.913190Z",
     "shell.execute_reply": "2024-11-19T01:33:10.911848Z",
     "shell.execute_reply.started": "2024-11-19T01:33:05.072091Z"
    }
   },
   "outputs": [],
   "source": [
    "!cp /kaggle/working/text-summarization-finetuned-bart/models/* /kaggle/working/en-text-sum-fine-tuned-bart/checkpoints/"
   ]
  },
  {
   "cell_type": "code",
   "execution_count": 5,
   "metadata": {
    "execution": {
     "iopub.execute_input": "2024-11-19T01:33:10.915254Z",
     "iopub.status.busy": "2024-11-19T01:33:10.914907Z",
     "iopub.status.idle": "2024-11-19T01:34:08.220273Z",
     "shell.execute_reply": "2024-11-19T01:34:08.219235Z",
     "shell.execute_reply.started": "2024-11-19T01:33:10.915218Z"
    }
   },
   "outputs": [
    {
     "name": "stdout",
     "output_type": "stream",
     "text": [
      "Found existing installation: torchmetrics 1.4.2\n",
      "Uninstalling torchmetrics-1.4.2:\n",
      "  Successfully uninstalled torchmetrics-1.4.2\n",
      "Collecting contractions==0.1.73 (from -r requirements.txt (line 1))\n",
      "  Downloading contractions-0.1.73-py2.py3-none-any.whl.metadata (1.2 kB)\n",
      "Collecting datasets==2.21.0 (from -r requirements.txt (line 2))\n",
      "  Downloading datasets-2.21.0-py3-none-any.whl.metadata (21 kB)\n",
      "Collecting torchmetrics==1.5.1 (from -r requirements.txt (line 3))\n",
      "  Downloading torchmetrics-1.5.1-py3-none-any.whl.metadata (20 kB)\n",
      "Collecting transformers==4.44.2 (from -r requirements.txt (line 4))\n",
      "  Downloading transformers-4.44.2-py3-none-any.whl.metadata (43 kB)\n",
      "\u001b[2K     \u001b[90m━━━━━━━━━━━━━━━━━━━━━━━━━━━━━━━━━━━━━━━━\u001b[0m \u001b[32m43.7/43.7 kB\u001b[0m \u001b[31m23.6 kB/s\u001b[0m eta \u001b[36m0:00:00\u001b[0m \u001b[36m0:00:01\u001b[0m\n",
      "\u001b[?25hRequirement already satisfied: python-dotenv==1.0.1 in /opt/conda/lib/python3.10/site-packages (from -r requirements.txt (line 5)) (1.0.1)\n",
      "Collecting wandb==0.18.1 (from -r requirements.txt (line 6))\n",
      "  Downloading wandb-0.18.1-py3-none-manylinux_2_17_x86_64.manylinux2014_x86_64.whl.metadata (9.6 kB)\n",
      "Collecting huggingface-hub==0.26.2 (from -r requirements.txt (line 7))\n",
      "  Downloading huggingface_hub-0.26.2-py3-none-any.whl.metadata (13 kB)\n",
      "Collecting pandas==2.1.4 (from -r requirements.txt (line 8))\n",
      "  Downloading pandas-2.1.4-cp310-cp310-manylinux_2_17_x86_64.manylinux2014_x86_64.whl.metadata (18 kB)\n",
      "Collecting textsearch>=0.0.21 (from contractions==0.1.73->-r requirements.txt (line 1))\n",
      "  Downloading textsearch-0.0.24-py2.py3-none-any.whl.metadata (1.2 kB)\n",
      "Requirement already satisfied: filelock in /opt/conda/lib/python3.10/site-packages (from datasets==2.21.0->-r requirements.txt (line 2)) (3.15.1)\n",
      "Requirement already satisfied: numpy>=1.17 in /opt/conda/lib/python3.10/site-packages (from datasets==2.21.0->-r requirements.txt (line 2)) (1.26.4)\n",
      "Requirement already satisfied: pyarrow>=15.0.0 in /opt/conda/lib/python3.10/site-packages (from datasets==2.21.0->-r requirements.txt (line 2)) (16.1.0)\n",
      "Requirement already satisfied: dill<0.3.9,>=0.3.0 in /opt/conda/lib/python3.10/site-packages (from datasets==2.21.0->-r requirements.txt (line 2)) (0.3.8)\n",
      "Requirement already satisfied: requests>=2.32.2 in /opt/conda/lib/python3.10/site-packages (from datasets==2.21.0->-r requirements.txt (line 2)) (2.32.3)\n",
      "Requirement already satisfied: tqdm>=4.66.3 in /opt/conda/lib/python3.10/site-packages (from datasets==2.21.0->-r requirements.txt (line 2)) (4.66.4)\n",
      "Requirement already satisfied: xxhash in /opt/conda/lib/python3.10/site-packages (from datasets==2.21.0->-r requirements.txt (line 2)) (3.4.1)\n",
      "Requirement already satisfied: multiprocess in /opt/conda/lib/python3.10/site-packages (from datasets==2.21.0->-r requirements.txt (line 2)) (0.70.16)\n",
      "Requirement already satisfied: fsspec<=2024.6.1,>=2023.1.0 in /opt/conda/lib/python3.10/site-packages (from fsspec[http]<=2024.6.1,>=2023.1.0->datasets==2.21.0->-r requirements.txt (line 2)) (2024.6.1)\n",
      "Requirement already satisfied: aiohttp in /opt/conda/lib/python3.10/site-packages (from datasets==2.21.0->-r requirements.txt (line 2)) (3.9.5)\n",
      "Requirement already satisfied: packaging in /opt/conda/lib/python3.10/site-packages (from datasets==2.21.0->-r requirements.txt (line 2)) (21.3)\n",
      "Requirement already satisfied: pyyaml>=5.1 in /opt/conda/lib/python3.10/site-packages (from datasets==2.21.0->-r requirements.txt (line 2)) (6.0.2)\n",
      "Requirement already satisfied: torch>=1.10.0 in /opt/conda/lib/python3.10/site-packages (from torchmetrics==1.5.1->-r requirements.txt (line 3)) (2.4.0)\n",
      "Requirement already satisfied: lightning-utilities>=0.8.0 in /opt/conda/lib/python3.10/site-packages (from torchmetrics==1.5.1->-r requirements.txt (line 3)) (0.11.7)\n",
      "Requirement already satisfied: regex!=2019.12.17 in /opt/conda/lib/python3.10/site-packages (from transformers==4.44.2->-r requirements.txt (line 4)) (2024.5.15)\n",
      "Requirement already satisfied: safetensors>=0.4.1 in /opt/conda/lib/python3.10/site-packages (from transformers==4.44.2->-r requirements.txt (line 4)) (0.4.5)\n",
      "Collecting tokenizers<0.20,>=0.19 (from transformers==4.44.2->-r requirements.txt (line 4))\n",
      "  Downloading tokenizers-0.19.1-cp310-cp310-manylinux_2_17_x86_64.manylinux2014_x86_64.whl.metadata (6.7 kB)\n",
      "Requirement already satisfied: click!=8.0.0,>=7.1 in /opt/conda/lib/python3.10/site-packages (from wandb==0.18.1->-r requirements.txt (line 6)) (8.1.7)\n",
      "Requirement already satisfied: docker-pycreds>=0.4.0 in /opt/conda/lib/python3.10/site-packages (from wandb==0.18.1->-r requirements.txt (line 6)) (0.4.0)\n",
      "Requirement already satisfied: gitpython!=3.1.29,>=1.0.0 in /opt/conda/lib/python3.10/site-packages (from wandb==0.18.1->-r requirements.txt (line 6)) (3.1.43)\n",
      "Requirement already satisfied: platformdirs in /opt/conda/lib/python3.10/site-packages (from wandb==0.18.1->-r requirements.txt (line 6)) (3.11.0)\n",
      "Requirement already satisfied: protobuf!=4.21.0,!=5.28.0,<6,>=3.19.0 in /opt/conda/lib/python3.10/site-packages (from wandb==0.18.1->-r requirements.txt (line 6)) (3.20.3)\n",
      "Requirement already satisfied: psutil>=5.0.0 in /opt/conda/lib/python3.10/site-packages (from wandb==0.18.1->-r requirements.txt (line 6)) (5.9.3)\n",
      "Requirement already satisfied: sentry-sdk>=1.0.0 in /opt/conda/lib/python3.10/site-packages (from wandb==0.18.1->-r requirements.txt (line 6)) (2.15.0)\n",
      "Requirement already satisfied: setproctitle in /opt/conda/lib/python3.10/site-packages (from wandb==0.18.1->-r requirements.txt (line 6)) (1.3.3)\n",
      "Requirement already satisfied: setuptools in /opt/conda/lib/python3.10/site-packages (from wandb==0.18.1->-r requirements.txt (line 6)) (70.0.0)\n",
      "Requirement already satisfied: typing-extensions>=3.7.4.3 in /opt/conda/lib/python3.10/site-packages (from huggingface-hub==0.26.2->-r requirements.txt (line 7)) (4.12.2)\n",
      "Requirement already satisfied: python-dateutil>=2.8.2 in /opt/conda/lib/python3.10/site-packages (from pandas==2.1.4->-r requirements.txt (line 8)) (2.9.0.post0)\n",
      "Requirement already satisfied: pytz>=2020.1 in /opt/conda/lib/python3.10/site-packages (from pandas==2.1.4->-r requirements.txt (line 8)) (2024.1)\n",
      "Requirement already satisfied: tzdata>=2022.1 in /opt/conda/lib/python3.10/site-packages (from pandas==2.1.4->-r requirements.txt (line 8)) (2024.1)\n",
      "Requirement already satisfied: six>=1.4.0 in /opt/conda/lib/python3.10/site-packages (from docker-pycreds>=0.4.0->wandb==0.18.1->-r requirements.txt (line 6)) (1.16.0)\n",
      "Requirement already satisfied: aiosignal>=1.1.2 in /opt/conda/lib/python3.10/site-packages (from aiohttp->datasets==2.21.0->-r requirements.txt (line 2)) (1.3.1)\n",
      "Requirement already satisfied: attrs>=17.3.0 in /opt/conda/lib/python3.10/site-packages (from aiohttp->datasets==2.21.0->-r requirements.txt (line 2)) (23.2.0)\n",
      "Requirement already satisfied: frozenlist>=1.1.1 in /opt/conda/lib/python3.10/site-packages (from aiohttp->datasets==2.21.0->-r requirements.txt (line 2)) (1.4.1)\n",
      "Requirement already satisfied: multidict<7.0,>=4.5 in /opt/conda/lib/python3.10/site-packages (from aiohttp->datasets==2.21.0->-r requirements.txt (line 2)) (6.0.5)\n",
      "Requirement already satisfied: yarl<2.0,>=1.0 in /opt/conda/lib/python3.10/site-packages (from aiohttp->datasets==2.21.0->-r requirements.txt (line 2)) (1.9.4)\n",
      "Requirement already satisfied: async-timeout<5.0,>=4.0 in /opt/conda/lib/python3.10/site-packages (from aiohttp->datasets==2.21.0->-r requirements.txt (line 2)) (4.0.3)\n",
      "Requirement already satisfied: gitdb<5,>=4.0.1 in /opt/conda/lib/python3.10/site-packages (from gitpython!=3.1.29,>=1.0.0->wandb==0.18.1->-r requirements.txt (line 6)) (4.0.11)\n",
      "Requirement already satisfied: pyparsing!=3.0.5,>=2.0.2 in /opt/conda/lib/python3.10/site-packages (from packaging->datasets==2.21.0->-r requirements.txt (line 2)) (3.1.2)\n",
      "Requirement already satisfied: charset-normalizer<4,>=2 in /opt/conda/lib/python3.10/site-packages (from requests>=2.32.2->datasets==2.21.0->-r requirements.txt (line 2)) (3.3.2)\n",
      "Requirement already satisfied: idna<4,>=2.5 in /opt/conda/lib/python3.10/site-packages (from requests>=2.32.2->datasets==2.21.0->-r requirements.txt (line 2)) (3.7)\n",
      "Requirement already satisfied: urllib3<3,>=1.21.1 in /opt/conda/lib/python3.10/site-packages (from requests>=2.32.2->datasets==2.21.0->-r requirements.txt (line 2)) (1.26.18)\n",
      "Requirement already satisfied: certifi>=2017.4.17 in /opt/conda/lib/python3.10/site-packages (from requests>=2.32.2->datasets==2.21.0->-r requirements.txt (line 2)) (2024.8.30)\n",
      "Collecting anyascii (from textsearch>=0.0.21->contractions==0.1.73->-r requirements.txt (line 1))\n",
      "  Downloading anyascii-0.3.2-py3-none-any.whl.metadata (1.5 kB)\n",
      "Collecting pyahocorasick (from textsearch>=0.0.21->contractions==0.1.73->-r requirements.txt (line 1))\n",
      "  Downloading pyahocorasick-2.1.0-cp310-cp310-manylinux_2_5_x86_64.manylinux1_x86_64.manylinux_2_12_x86_64.manylinux2010_x86_64.whl.metadata (13 kB)\n",
      "Requirement already satisfied: sympy in /opt/conda/lib/python3.10/site-packages (from torch>=1.10.0->torchmetrics==1.5.1->-r requirements.txt (line 3)) (1.13.3)\n",
      "Requirement already satisfied: networkx in /opt/conda/lib/python3.10/site-packages (from torch>=1.10.0->torchmetrics==1.5.1->-r requirements.txt (line 3)) (3.3)\n",
      "Requirement already satisfied: jinja2 in /opt/conda/lib/python3.10/site-packages (from torch>=1.10.0->torchmetrics==1.5.1->-r requirements.txt (line 3)) (3.1.4)\n",
      "Requirement already satisfied: smmap<6,>=3.0.1 in /opt/conda/lib/python3.10/site-packages (from gitdb<5,>=4.0.1->gitpython!=3.1.29,>=1.0.0->wandb==0.18.1->-r requirements.txt (line 6)) (5.0.1)\n",
      "Requirement already satisfied: MarkupSafe>=2.0 in /opt/conda/lib/python3.10/site-packages (from jinja2->torch>=1.10.0->torchmetrics==1.5.1->-r requirements.txt (line 3)) (2.1.5)\n",
      "Requirement already satisfied: mpmath<1.4,>=1.1.0 in /opt/conda/lib/python3.10/site-packages (from sympy->torch>=1.10.0->torchmetrics==1.5.1->-r requirements.txt (line 3)) (1.3.0)\n",
      "Downloading contractions-0.1.73-py2.py3-none-any.whl (8.7 kB)\n",
      "Downloading datasets-2.21.0-py3-none-any.whl (527 kB)\n",
      "\u001b[2K   \u001b[90m━━━━━━━━━━━━━━━━━━━━━━━━━━━━━━━━━━━━━━━━\u001b[0m \u001b[32m527.3/527.3 kB\u001b[0m \u001b[31m9.9 MB/s\u001b[0m eta \u001b[36m0:00:00\u001b[0mta \u001b[36m0:00:01\u001b[0m\n",
      "\u001b[?25hDownloading torchmetrics-1.5.1-py3-none-any.whl (890 kB)\n",
      "\u001b[2K   \u001b[90m━━━━━━━━━━━━━━━━━━━━━━━━━━━━━━━━━━━━━━━━\u001b[0m \u001b[32m890.6/890.6 kB\u001b[0m \u001b[31m28.8 MB/s\u001b[0m eta \u001b[36m0:00:00\u001b[0m\n",
      "\u001b[?25hDownloading transformers-4.44.2-py3-none-any.whl (9.5 MB)\n",
      "\u001b[2K   \u001b[90m━━━━━━━━━━━━━━━━━━━━━━━━━━━━━━━━━━━━━━━━\u001b[0m \u001b[32m9.5/9.5 MB\u001b[0m \u001b[31m84.9 MB/s\u001b[0m eta \u001b[36m0:00:00\u001b[0m:00:01\u001b[0m00:01\u001b[0m\n",
      "\u001b[?25hDownloading wandb-0.18.1-py3-none-manylinux_2_17_x86_64.manylinux2014_x86_64.whl (9.7 MB)\n",
      "\u001b[2K   \u001b[90m━━━━━━━━━━━━━━━━━━━━━━━━━━━━━━━━━━━━━━━━\u001b[0m \u001b[32m9.7/9.7 MB\u001b[0m \u001b[31m77.5 MB/s\u001b[0m eta \u001b[36m0:00:00\u001b[0m:00:01\u001b[0m00:01\u001b[0m\n",
      "\u001b[?25hDownloading huggingface_hub-0.26.2-py3-none-any.whl (447 kB)\n",
      "\u001b[2K   \u001b[90m━━━━━━━━━━━━━━━━━━━━━━━━━━━━━━━━━━━━━━━━\u001b[0m \u001b[32m447.5/447.5 kB\u001b[0m \u001b[31m29.3 MB/s\u001b[0m eta \u001b[36m0:00:00\u001b[0m\n",
      "\u001b[?25hDownloading pandas-2.1.4-cp310-cp310-manylinux_2_17_x86_64.manylinux2014_x86_64.whl (12.3 MB)\n",
      "\u001b[2K   \u001b[90m━━━━━━━━━━━━━━━━━━━━━━━━━━━━━━━━━━━━━━━━\u001b[0m \u001b[32m12.3/12.3 MB\u001b[0m \u001b[31m83.6 MB/s\u001b[0m eta \u001b[36m0:00:00\u001b[0m:00:01\u001b[0m00:01\u001b[0m\n",
      "\u001b[?25hDownloading textsearch-0.0.24-py2.py3-none-any.whl (7.6 kB)\n",
      "Downloading tokenizers-0.19.1-cp310-cp310-manylinux_2_17_x86_64.manylinux2014_x86_64.whl (3.6 MB)\n",
      "\u001b[2K   \u001b[90m━━━━━━━━━━━━━━━━━━━━━━━━━━━━━━━━━━━━━━━━\u001b[0m \u001b[32m3.6/3.6 MB\u001b[0m \u001b[31m91.7 MB/s\u001b[0m eta \u001b[36m0:00:00\u001b[0m:00:01\u001b[0m\n",
      "\u001b[?25hDownloading anyascii-0.3.2-py3-none-any.whl (289 kB)\n",
      "\u001b[2K   \u001b[90m━━━━━━━━━━━━━━━━━━━━━━━━━━━━━━━━━━━━━━━━\u001b[0m \u001b[32m289.9/289.9 kB\u001b[0m \u001b[31m23.2 MB/s\u001b[0m eta \u001b[36m0:00:00\u001b[0m\n",
      "\u001b[?25hDownloading pyahocorasick-2.1.0-cp310-cp310-manylinux_2_5_x86_64.manylinux1_x86_64.manylinux_2_12_x86_64.manylinux2010_x86_64.whl (110 kB)\n",
      "\u001b[2K   \u001b[90m━━━━━━━━━━━━━━━━━━━━━━━━━━━━━━━━━━━━━━━━\u001b[0m \u001b[32m110.7/110.7 kB\u001b[0m \u001b[31m8.3 MB/s\u001b[0m eta \u001b[36m0:00:00\u001b[0m\n",
      "\u001b[?25hInstalling collected packages: pyahocorasick, anyascii, textsearch, pandas, huggingface-hub, wandb, torchmetrics, tokenizers, contractions, transformers, datasets\n",
      "  Attempting uninstall: pandas\n",
      "    Found existing installation: pandas 2.2.2\n",
      "    Uninstalling pandas-2.2.2:\n",
      "      Successfully uninstalled pandas-2.2.2\n",
      "  Attempting uninstall: huggingface-hub\n",
      "    Found existing installation: huggingface-hub 0.25.1\n",
      "    Uninstalling huggingface-hub-0.25.1:\n",
      "      Successfully uninstalled huggingface-hub-0.25.1\n",
      "  Attempting uninstall: wandb\n",
      "    Found existing installation: wandb 0.18.3\n",
      "    Uninstalling wandb-0.18.3:\n",
      "      Successfully uninstalled wandb-0.18.3\n",
      "  Attempting uninstall: tokenizers\n",
      "    Found existing installation: tokenizers 0.20.0\n",
      "    Uninstalling tokenizers-0.20.0:\n",
      "      Successfully uninstalled tokenizers-0.20.0\n",
      "  Attempting uninstall: transformers\n",
      "    Found existing installation: transformers 4.45.1\n",
      "    Uninstalling transformers-4.45.1:\n",
      "      Successfully uninstalled transformers-4.45.1\n",
      "  Attempting uninstall: datasets\n",
      "    Found existing installation: datasets 3.0.1\n",
      "    Uninstalling datasets-3.0.1:\n",
      "      Successfully uninstalled datasets-3.0.1\n",
      "\u001b[31mERROR: pip's dependency resolver does not currently take into account all the packages that are installed. This behaviour is the source of the following dependency conflicts.\n",
      "cudf 24.8.3 requires cubinlinker, which is not installed.\n",
      "cudf 24.8.3 requires cupy-cuda11x>=12.0.0, which is not installed.\n",
      "cudf 24.8.3 requires ptxcompiler, which is not installed.\n",
      "cuml 24.8.0 requires cupy-cuda11x>=12.0.0, which is not installed.\n",
      "dask-cudf 24.8.3 requires cupy-cuda11x>=12.0.0, which is not installed.\n",
      "beatrix-jupyterlab 2024.66.154055 requires jupyterlab~=3.6.0, but you have jupyterlab 4.2.5 which is incompatible.\n",
      "bigframes 0.22.0 requires google-cloud-bigquery[bqstorage,pandas]>=3.10.0, but you have google-cloud-bigquery 2.34.4 which is incompatible.\n",
      "bigframes 0.22.0 requires google-cloud-storage>=2.0.0, but you have google-cloud-storage 1.44.0 which is incompatible.\n",
      "bigframes 0.22.0 requires pandas<2.1.4,>=1.5.0, but you have pandas 2.1.4 which is incompatible.\n",
      "cesium 0.12.3 requires numpy<3.0,>=2.0, but you have numpy 1.26.4 which is incompatible.\n",
      "cudf 24.8.3 requires cuda-python<12.0a0,>=11.7.1, but you have cuda-python 12.6.0 which is incompatible.\n",
      "dataproc-jupyter-plugin 0.1.79 requires pydantic~=1.10.0, but you have pydantic 2.9.2 which is incompatible.\n",
      "ibis-framework 7.1.0 requires pyarrow<15,>=2, but you have pyarrow 16.1.0 which is incompatible.\n",
      "libpysal 4.9.2 requires packaging>=22, but you have packaging 21.3 which is incompatible.\n",
      "libpysal 4.9.2 requires shapely>=2.0.1, but you have shapely 1.8.5.post1 which is incompatible.\n",
      "rapids-dask-dependency 24.8.0a0 requires dask==2024.7.1, but you have dask 2024.9.1 which is incompatible.\n",
      "xarray 2024.9.0 requires packaging>=23.1, but you have packaging 21.3 which is incompatible.\n",
      "ydata-profiling 4.10.0 requires scipy<1.14,>=1.4.1, but you have scipy 1.14.1 which is incompatible.\u001b[0m\u001b[31m\n",
      "\u001b[0mSuccessfully installed anyascii-0.3.2 contractions-0.1.73 datasets-2.21.0 huggingface-hub-0.26.2 pandas-2.1.4 pyahocorasick-2.1.0 textsearch-0.0.24 tokenizers-0.19.1 torchmetrics-1.5.1 transformers-4.44.2 wandb-0.18.1\n"
     ]
    }
   ],
   "source": [
    "!pip uninstall torchmetrics -y\n",
    "!pip install -r requirements.txt"
   ]
  },
  {
   "cell_type": "markdown",
   "metadata": {},
   "source": [
    "# Config"
   ]
  },
  {
   "cell_type": "code",
   "execution_count": 6,
   "metadata": {
    "execution": {
     "iopub.execute_input": "2024-11-19T01:34:08.222013Z",
     "iopub.status.busy": "2024-11-19T01:34:08.221635Z",
     "iopub.status.idle": "2024-11-19T01:34:09.257630Z",
     "shell.execute_reply": "2024-11-19T01:34:09.256617Z",
     "shell.execute_reply.started": "2024-11-19T01:34:08.221960Z"
    }
   },
   "outputs": [],
   "source": [
    "!cp /kaggle/working/text-summarization-finetuned-bart/setting_config.yaml /kaggle/working/en-text-sum-fine-tuned-bart/config/"
   ]
  },
  {
   "cell_type": "markdown",
   "metadata": {},
   "source": [
    "# Get tokenizer"
   ]
  },
  {
   "cell_type": "code",
   "execution_count": 7,
   "metadata": {
    "execution": {
     "iopub.execute_input": "2024-11-19T01:34:09.260141Z",
     "iopub.status.busy": "2024-11-19T01:34:09.259271Z",
     "iopub.status.idle": "2024-11-19T01:34:13.342145Z",
     "shell.execute_reply": "2024-11-19T01:34:13.340926Z",
     "shell.execute_reply.started": "2024-11-19T01:34:09.260100Z"
    }
   },
   "outputs": [],
   "source": [
    "!cp /kaggle/working/text-summarization-finetuned-bart/merges.txt /kaggle/working/en-text-sum-fine-tuned-bart/tokenizer-bart/\n",
    "!cp /kaggle/working/text-summarization-finetuned-bart/special_tokens_map.json /kaggle/working/en-text-sum-fine-tuned-bart/tokenizer-bart/\n",
    "!cp /kaggle/working/text-summarization-finetuned-bart/tokenizer_config.json /kaggle/working/en-text-sum-fine-tuned-bart/tokenizer-bart/\n",
    "!cp /kaggle/working/text-summarization-finetuned-bart/vocab.json /kaggle/working/en-text-sum-fine-tuned-bart/tokenizer-bart/"
   ]
  },
  {
   "cell_type": "markdown",
   "metadata": {},
   "source": [
    "# Remove repo hub"
   ]
  },
  {
   "cell_type": "code",
   "execution_count": 8,
   "metadata": {
    "execution": {
     "iopub.execute_input": "2024-11-19T01:34:13.343991Z",
     "iopub.status.busy": "2024-11-19T01:34:13.343671Z",
     "iopub.status.idle": "2024-11-19T01:34:15.099857Z",
     "shell.execute_reply": "2024-11-19T01:34:15.098875Z",
     "shell.execute_reply.started": "2024-11-19T01:34:13.343958Z"
    }
   },
   "outputs": [],
   "source": [
    "!rm -rf /kaggle/working/text-summarization-finetuned-bart"
   ]
  },
  {
   "cell_type": "markdown",
   "metadata": {},
   "source": [
    "# Build summarizer"
   ]
  },
  {
   "cell_type": "code",
   "execution_count": 9,
   "metadata": {
    "execution": {
     "iopub.execute_input": "2024-11-19T01:34:15.101465Z",
     "iopub.status.busy": "2024-11-19T01:34:15.101176Z",
     "iopub.status.idle": "2024-11-19T01:34:16.134472Z",
     "shell.execute_reply": "2024-11-19T01:34:16.133139Z",
     "shell.execute_reply.started": "2024-11-19T01:34:15.101434Z"
    }
   },
   "outputs": [
    {
     "name": "stdout",
     "output_type": "stream",
     "text": [
      "bart_model_6882.pt\n"
     ]
    }
   ],
   "source": [
    "!ls checkpoints"
   ]
  },
  {
   "cell_type": "code",
   "execution_count": 10,
   "metadata": {
    "execution": {
     "iopub.execute_input": "2024-11-19T01:34:16.138899Z",
     "iopub.status.busy": "2024-11-19T01:34:16.138556Z",
     "iopub.status.idle": "2024-11-19T01:34:28.013844Z",
     "shell.execute_reply": "2024-11-19T01:34:28.012903Z",
     "shell.execute_reply.started": "2024-11-19T01:34:16.138857Z"
    }
   },
   "outputs": [
    {
     "name": "stdout",
     "output_type": "stream",
     "text": [
      "Loading tokenizer...\n",
      "Loading model checkpoints/bart_model_6882.pt...\n",
      "Building model...\n"
     ]
    },
    {
     "data": {
      "application/vnd.jupyter.widget-view+json": {
       "model_id": "e9ee64654a4b4202babfe958220424b5",
       "version_major": 2,
       "version_minor": 0
      },
      "text/plain": [
       "config.json:   0%|          | 0.00/1.72k [00:00<?, ?B/s]"
      ]
     },
     "metadata": {},
     "output_type": "display_data"
    },
    {
     "data": {
      "application/vnd.jupyter.widget-view+json": {
       "model_id": "8700588aa9ee45d1b70066613b01f608",
       "version_major": 2,
       "version_minor": 0
      },
      "text/plain": [
       "model.safetensors:   0%|          | 0.00/558M [00:00<?, ?B/s]"
      ]
     },
     "metadata": {},
     "output_type": "display_data"
    },
    {
     "name": "stdout",
     "output_type": "stream",
     "text": [
      "Building summarizer...\n"
     ]
    }
   ],
   "source": [
    "from summarization.summarizer import build_summarizer\n",
    "\n",
    "summarizer = build_summarizer(\n",
    "    model_path='checkpoints/bart_model_6882.pt',\n",
    "    tokenizer_path='tokenizer-bart'\n",
    ")"
   ]
  },
  {
   "cell_type": "markdown",
   "metadata": {
    "execution": {
     "iopub.execute_input": "2024-11-14T05:32:30.675772Z",
     "iopub.status.busy": "2024-11-14T05:32:30.674880Z",
     "iopub.status.idle": "2024-11-14T05:32:30.679592Z",
     "shell.execute_reply": "2024-11-14T05:32:30.678719Z",
     "shell.execute_reply.started": "2024-11-14T05:32:30.675729Z"
    }
   },
   "source": [
    "# Testing examples"
   ]
  },
  {
   "cell_type": "code",
   "execution_count": 11,
   "metadata": {
    "execution": {
     "iopub.execute_input": "2024-11-19T01:34:28.015782Z",
     "iopub.status.busy": "2024-11-19T01:34:28.015394Z",
     "iopub.status.idle": "2024-11-19T01:34:29.809155Z",
     "shell.execute_reply": "2024-11-19T01:34:29.807861Z",
     "shell.execute_reply.started": "2024-11-19T01:34:28.015747Z"
    }
   },
   "outputs": [
    {
     "name": "stdout",
     "output_type": "stream",
     "text": [
      "['use a hint . use a words . use sparkle emoji .', 'use a hint . use a words . use sparkle emoji . use sparkle emoji .', 'use a hint . use a words . use sparkle emoji . use sparkle emoji . use sparkle emoji .']\n"
     ]
    }
   ],
   "source": [
    "text = \"\"\"\n",
    "When you’re crushing on someone:\n",
    "Give that special someone a hint you like them by sending them a ✨.[6] This is a subtle but great way to say, “I think you’re attractive!” Add it to the end of a compliment, or pair it with other flirty emojis.\n",
    "“You looked really cute today 😉✨”\n",
    "“There’s just something about you ✨”\n",
    "\n",
    "When you want to italicize a word:\n",
    "Emphasize a point by using two ✨s. Framing a word with sparkle emojis is a creative way to add personality to your message.\n",
    "“I do it for the ✨aesthetics✨”\n",
    "“She had the ✨audacity✨ to say that”\n",
    "\n",
    "When you’re excited:\n",
    "Give your message some dramatic flare by using a ✨. This is a fun and effortless way to put some theatrics into your message, all while emphasizing your joy.\n",
    "“I can’t wait for tonight!! 😆✨”\n",
    "“This ice cream is the best I’ve ever had 😋✨”\n",
    "\n",
    "When there’s magic in the air:\n",
    "Sparkles are the universal symbol for magic, and the ✨ is no different! Add some extra glitter and whimsy to a message talking about anything fantastical.\n",
    "“Did you get to the part with the wizards yet?? ✨”\n",
    "“Rainbows are just so magical ✨🌈”\n",
    "\n",
    "When you’re cleaning:\n",
    "Show off your mad cleaning skills by using a ✨. When paired with other cleaning emojis, the sparkle emoji can emphasize all your hard work in a positive, light-hearted way.\n",
    "“Finally got around to cleaning the house, and it feels good 😆🧹✨”\n",
    "“Call me the master cleaner 🦸✨”\n",
    "\n",
    "When you’re looking at the stars:\n",
    "If the stars are extra beautiful, tell your friends how amazing they are with a ✨. The sparkle emoji can represent the stars, so use it when discussing space or constellations.\n",
    "“The north star is so bright tonight ✨🌟”\n",
    "“Wanna go stargazing later? ✨”\n",
    "\"\"\"\n",
    "\n",
    "summary = summarizer.summarize(text=text, beam_size=3, nums=3)\n",
    "\n",
    "print(summary)"
   ]
  },
  {
   "cell_type": "code",
   "execution_count": 12,
   "metadata": {
    "execution": {
     "iopub.execute_input": "2024-11-19T01:34:29.811104Z",
     "iopub.status.busy": "2024-11-19T01:34:29.810648Z",
     "iopub.status.idle": "2024-11-19T01:34:31.302161Z",
     "shell.execute_reply": "2024-11-19T01:34:31.301218Z",
     "shell.execute_reply.started": "2024-11-19T01:34:29.811074Z"
    }
   },
   "outputs": [
    {
     "name": "stdout",
     "output_type": "stream",
     "text": [
      "['find out what inspiration you want to work . prepare your supplies . paint mural .', 'find out what inspiration you want to work . prepare for each project . prepare for the project . paint mural .', 'find out what inspiration you want to work . prepare for each project . prepare for the project . make sure that the project is organized .']\n"
     ]
    }
   ],
   "source": [
    "text = \"\"\"\n",
    "as you start planning for project or work , you will likely be gathering scraps of inspiration and test sketches . while everyone has strategy , there is nothing more maddening than digging through book or the internet to re - find the cool idea you saw three months ago . try out dedicating notebook , preferably with insert folders , to each project . making bookmark folder for each project on your internet browser to easily compile online inspiration . tacking up physical inspiration on wall or cork board near your workspace . very few artists simply dive right into large projects . almost 100 of the time they instead work on related , smaller projects called studies to prepare for the larger work . you might practice the face of the portrait you are making , sketch our different composition ideas , or practice vulnerable or difficult part of sculpture . keep these organized as way to prepare both the skills , ideas , and supplies needed for the final project . at the end of the day , artists are visual people , and tucking everything away neatly and cleanly may not be conducive to the artistic process . of course , neither is losing or misplacing essential supplies . find compromise by packing away any supplies not currently in use , and leaving little bit of essential clutter . it is okay to have inspiration scattered around the studio - just make sure it is the inspiration you need for the current project . just because you are not organized is no excuse not to make an attempt . do not feel like the only options are perfect cleanliness or an utter mess - there is middle ground . nothing is worse than spending long night on painting only to realize you have run out of white paint halfway through section . once week , or more frequently if possible , check in on the quantities of your supplies so that you can refill them before it becomes problem . simple spreadsheet or notebook , marked at the end of each artistic session , is quick and easy way to keep tabs on your stuff . deciding to paint mural is huge undertaking . but sketching the idea , transposing the image onto the wall , painting the basic colors , then adding shading detail are four separate and more manageable projects . organization is key to big projects , even if it feels constraining to your creativity . in reality , organizing your work and progress frees your mind to actually be creative , instead of worrying about logistics . figure out the building blocks of each part of the project , tackling each at once . do not jump around across all parts of the project haphazardly .\n",
    "\"\"\"\n",
    "\n",
    "summary = summarizer.summarize(text=text, beam_size=3, nums=3)\n",
    "\n",
    "print(summary)"
   ]
  },
  {
   "cell_type": "code",
   "execution_count": 13,
   "metadata": {
    "execution": {
     "iopub.execute_input": "2024-11-19T01:34:31.303632Z",
     "iopub.status.busy": "2024-11-19T01:34:31.303290Z",
     "iopub.status.idle": "2024-11-19T01:34:31.308205Z",
     "shell.execute_reply": "2024-11-19T01:34:31.307199Z",
     "shell.execute_reply.started": "2024-11-19T01:34:31.303602Z"
    }
   },
   "outputs": [],
   "source": [
    "target = \"\"\"\n",
    "eep your reference materials , sketches , articles , photos , etc , in one easy to find place .\n",
    "make studies , or practice sketches , to organize effectively for larger projects .\n",
    "limit the supplies you leave out to the project at hand .\n",
    "keep an updated list of all of the necessary supplies , and the quantities of each .\n",
    "break down bigger works into more easily completed parts .\n",
    "\"\"\""
   ]
  },
  {
   "cell_type": "code",
   "execution_count": 14,
   "metadata": {
    "execution": {
     "iopub.execute_input": "2024-11-19T01:34:31.309892Z",
     "iopub.status.busy": "2024-11-19T01:34:31.309609Z",
     "iopub.status.idle": "2024-11-19T01:34:34.040870Z",
     "shell.execute_reply": "2024-11-19T01:34:34.040031Z",
     "shell.execute_reply.started": "2024-11-19T01:34:31.309852Z"
    }
   },
   "outputs": [
    {
     "name": "stdout",
     "output_type": "stream",
     "text": [
      "['research the art investors . consider the art collectors . consider the art investments . consider the art market .', 'research the art investors . consider the art collectors . consider the art investments . research the art market .', 'research the art investors . consider the art collectors . consider the art investments . consider the art art market .']\n"
     ]
    }
   ],
   "source": [
    "text = \"\"\"\n",
    "the best art investors do their research on the pieces of art that they buy , so someone with some education or interest in the art world is more likely to understand this niche market . as well as personal research , you will need to have contacts with people in the art world , such as auctioneers , gallery directors and dealers , who can give you good investment advice . you may confuse these three terms , if you are not careful . each of them has slightly different goal in mind when looking to buy art . art collectors do not buy art for investment purposes . they buy it to decorate and display in their home . because they consider them to be an important part of their home or life , most art collectors have hard time parting with pieces of their collection . while many collectors do end up selling some pieces of art , it may be done because of necessity . collectors often loan their works out to museums and occasionally donate them to museums upon their death . art investors seek to diversify their portfolio with an art investment . some investment firms put about two and half to three percent of their investment money in art . they seek good advice and often buy paintings that are older and have been popular historically , such as paintings by the old masters . these investments are kept over decades , and sold off when the market is right , with the investor seeking to get six to ten percent profit rise per year . these investments are also often made to be given as inheritance to future generations of the family . art investment is often undertaken by the very wealthy . art speculators try to invest in art that they believe will appreciate in value . they aim to buy art at low price from budding artists in the beginning of their careers . then they hope to sell their work in 10 to 15 years when the artists are at the peak of their careers and people or collectors are willing to pay much more for their pieces . this is type of investment that takes intimate involvement with the art world and liquidity in order to buy the art . art investments should be no more than small part of your investment portfolio , along with stocks , bonds , new businesses and more . figure out what your range is before you begin to pick out potential pieces , and get advice from investors and art dealers . study the mei moses fine art index to get firm grasp of the art market today . although they cannot predict what will be popular in the future , they can tell you what art tends to keep its value and be low - risk and what art has more volatile market value . while this is not an absolute rule to follow , paintings from successful artists tend to get better returns than sculpture and installation art . get all the information you can out of them before making purchase . if you are going to buy at auction , be prepared to walk away if the price goes higher than your investment range . beware of art auctioneers or dealers that promise too high return on paintings . in many ways , they are just like stock brokers and other financial investment firms , who may promise anything to get sale . they should be found trustworthy before you buy anything , because ponzi schemes and art market bubbles are part of this investment landscape as well . if you have never bought art in an auction environment before , you may want to seek advice about how it is done properly . you should study the auction booklet before hand , learn about secret buyers and how prices can quickly inflate . most fine auction houses would be willing to teach you the basics if they see you as serious investor . arrange for payment , shipping and insurance . each piece of art should be insured and catalogued as part of your estate . in order for an art investment to retain its value , it should be kept at low - humidity and avoid being marred . you may choose to hang it in your home , but you may want to get an art collector advice about where to hang it and how to care for it . share this information with your children , if it is intended as an inheritance investment . they need to be well aware of how to take care of art , or they may lose money or ruin the painting entirely . as well as keeping tabs on the art world to understand the rise and falls of certain schools of art , an appraiser can tell you how your investment is maturing . they may clue you in on when you have reached your desired profit . if the art you buy does not fit in your home , and you will only be storing it , research banks , hotels and other institutions that rent fine art on rotating basis . you may be able to demand thousands of dollars per year for your art to hang in another building . keep in mind you will need to make sure your art is covered by an insurance policy for loss or damage . make sure the renter provides insurance for your art . you should prepare contract that stipulates the time allotted , the fee , the insurance and the shipment of your art . unless you employ an art dealer or auction house at the exact moment when the art is in high value , it can take years and thousands of dollars in fees to find the right buyer .\n",
    "\"\"\"\n",
    "\n",
    "summary = summarizer.summarize(\n",
    "    text=text,\n",
    "    beam_size=3,\n",
    "    nums=3,\n",
    "    max_pred_seq_length=512,\n",
    ")\n",
    "\n",
    "print(summary)"
   ]
  },
  {
   "cell_type": "code",
   "execution_count": 15,
   "metadata": {
    "execution": {
     "iopub.execute_input": "2024-11-19T01:34:34.042456Z",
     "iopub.status.busy": "2024-11-19T01:34:34.042140Z",
     "iopub.status.idle": "2024-11-19T01:34:34.046973Z",
     "shell.execute_reply": "2024-11-19T01:34:34.045983Z",
     "shell.execute_reply.started": "2024-11-19T01:34:34.042428Z"
    }
   },
   "outputs": [],
   "source": [
    "target = \"\"\"\n",
    "start with some experience or interest in art .\n",
    "understand the difference between art collectors , art investors and art speculators .\n",
    "figure out what you are willing to pay for art , before going to an auction house .\n",
    "pay attention to what schools of art are selling well , and which are down .\n",
    "focus art investments on fine art paintings , rather than decorative art .\n",
    "reach out to trusted auction houses and dealers when you are looking to buy art .\n",
    "buy your investment art when you feel confident of its worth , its price and its ability to grow in value .\n",
    "study how art is properly stored . have your art investments appraised occasionally .\n",
    "consider renting out your art investments .\n",
    "understand that selling an art investment can take time .\n",
    "\"\"\""
   ]
  },
  {
   "cell_type": "code",
   "execution_count": 16,
   "metadata": {
    "execution": {
     "iopub.execute_input": "2024-11-19T01:34:34.048542Z",
     "iopub.status.busy": "2024-11-19T01:34:34.048168Z",
     "iopub.status.idle": "2024-11-19T01:34:39.415573Z",
     "shell.execute_reply": "2024-11-19T01:34:39.414609Z",
     "shell.execute_reply.started": "2024-11-19T01:34:34.048485Z"
    }
   },
   "outputs": [
    {
     "name": "stdout",
     "output_type": "stream",
     "text": [
      "['choose bachelor degree . learn about vfx artists . learn about vfx artists . learn about vfx artists . learn about vfx artists . learn about vfx artists .', 'choose bachelor degree . learn about vfx artists . learn about vfx artists . learn about vfx artists . learn about vfx artists . learn about vfx artists . learn about vfx artists .', 'choose bachelor degree . learn about vfx artists . learn about vfx artists . learn about vfx artists . learn about vfx artists . learn about vfx artists . learn about vfx artists . learn about vfx artists . learn about vfx artists . learn about vfx artists . learn about vfx artists . learn about vfx artists . learn about vfx artists . learn about vfx artists . learn about vfx artists . learn about vfx artists . learn about vfx artists . learn about vfx artists . learn about vfx artists . learn about vfx artists . learn about vfx artists . learn about vfx artists . learn about vfx artists . learn about vfx artists . learn about vfx artists . learn about vfx artists . learn about vfx artists . learn about vfx artists . learn about vfx artists . learn about vfx artists .']\n"
     ]
    },
    {
     "data": {
      "text/plain": [
       "'\\ntarget = get bachelor degree .\\nenroll in studio - based program .\\ntrain on number of vfx computer programs .\\nwatch online tutorials .\\nnurture your artistic side .\\npay close attention to movies , television shows , and video games .\\ndevelop specialization .\\n'"
      ]
     },
     "execution_count": 16,
     "metadata": {},
     "output_type": "execute_result"
    }
   ],
   "source": [
    "text = \"\"\"\n",
    "it is possible to become vfx artist without college degree , but the path is often easier with one . vfx artists usually major in fine arts , computer graphics , or animation . choose college with reputation for strength in these areas and reputation for good job placement for graduates . the availability of internships is another factor to consider . out of the jobs advertised for vfx artists , majority at any given time specify bachelor degree as minimum requirement for applicants . some studios offer short - term programs for people who want to learn more about vfx artistry without pursuing college degree . enrolling in these programs can be expensive as financial aid is not always offered , but they usually have the most cutting edge technology for you to learn from . although you may create some hand sketches , the majority of your work will be completed on the computer using the most up - to - date programs . stay informed about the newest software advances by following vfx blogs and taking online computer tutorials . for example , vfx artists are expected to be well - versed in graphics and animation programs , such as adobe creative suite and javascript . clearly list every program that you can work with on your resume . hop onto youtube or another video service and search for vfx clip reels or demonstrations . some of these videos will focus on particular skill set , such as shading , which you then can practice on your own . challenge yourself to mimic some of the more difficult tasks , or even try to improve upon the models used . take as many art and design classes as you can . or , simply carry sketch pad around with you to work on your basic animation skills . as you draw , consider factors such as lighting and framing . even geometry skills can come in handy when creating particular type of background or even person face . make choice to become an observer of the world around you . ask yourself how could capture the movement of the leaves or , in what situations do shadows appear , watch all of these creations with an eye for detail . look for the techniques used and any original approaches that you see . try to recreate any scenes that you find particularly interesting . research the artists and see what their backgrounds are and contact them if you like . as you gain more experience , you will likely find yourself gravitating toward certain aspect of design . this will become your calling card and directors and other professionals will seek you out for this type of work . to build your specialization , start choosing jobs with that emphasis and attend additional training seminars . for example , some vfx specialists focus on human character faces , animal figures , or city backgrounds .\n",
    "\"\"\"\n",
    "\n",
    "summary = summarizer.summarize(\n",
    "    text=text,\n",
    "    beam_size=3,\n",
    "    nums=3,\n",
    "    max_pred_seq_length=512,\n",
    ")\n",
    "\n",
    "print(summary)\n",
    "\n",
    "\"\"\"\n",
    "target = get bachelor degree .\n",
    "enroll in studio - based program .\n",
    "train on number of vfx computer programs .\n",
    "watch online tutorials .\n",
    "nurture your artistic side .\n",
    "pay close attention to movies , television shows , and video games .\n",
    "develop specialization .\n",
    "\"\"\""
   ]
  },
  {
   "cell_type": "code",
   "execution_count": 17,
   "metadata": {
    "execution": {
     "iopub.execute_input": "2024-11-19T01:34:39.417447Z",
     "iopub.status.busy": "2024-11-19T01:34:39.417091Z",
     "iopub.status.idle": "2024-11-19T01:34:40.390703Z",
     "shell.execute_reply": "2024-11-19T01:34:40.389774Z",
     "shell.execute_reply.started": "2024-11-19T01:34:39.417407Z"
    }
   },
   "outputs": [
    {
     "name": "stdout",
     "output_type": "stream",
     "text": [
      "['find antique mirrors . place the minimalist approach on the room . remove the curtains from the room .', 'find antique mirrors . place the minimalist approach on the door . remove the curtains from the room .', 'find antique mirrors . place the minimalist approach on your room . remove the curtains from the room .']\n"
     ]
    }
   ],
   "source": [
    "text = \"\"\"\n",
    "here are some creative ways to make room feel larger , brighter and more stylish with mirrors . find antique mirrors and hang them close together . it will look like an art installation and reflect light around the room . use long and skinny mirror on large wall to make room look wider . place it across from large window to reflect more light from the outside into your room . take small square mirrors and tile wall where you wish there was window . it will give the illusion that you have an extra window . set up floor length mirrors in hallways or nooks . glass or mirrored coffee table , wall hanging or vase may increase the open feeling of the room while attracting more light . opt to replace knobs on your furniture with glass knobs . take the minimalist approach toward decorating , in any room you want to feel airy and light . remove knick knacks , bookshelves and collections in favor of or vases and statement pieces . consider removing end tables , file cabinets , tv stands and ottomans , if they just end up collecting clutter . you can hang electronics directly on the walls . if you need extra privacy , put in light cellular blinds behind the curtains . sheer materials that drape down will allow more light into the room than thick or dark panels . if you have very few windows in the room , consider keeping them unfurnished to let in more light .\n",
    "\"\"\"\n",
    "\n",
    "summary = summarizer.summarize(\n",
    "    text=text,\n",
    "    beam_size=3,\n",
    "    nums=3,\n",
    "    max_pred_seq_length=512,\n",
    ")\n",
    "\n",
    "print(summary)\n"
   ]
  },
  {
   "cell_type": "code",
   "execution_count": 18,
   "metadata": {
    "execution": {
     "iopub.execute_input": "2024-11-19T01:34:40.392856Z",
     "iopub.status.busy": "2024-11-19T01:34:40.392219Z",
     "iopub.status.idle": "2024-11-19T01:35:42.908926Z",
     "shell.execute_reply": "2024-11-19T01:35:42.907882Z",
     "shell.execute_reply.started": "2024-11-19T01:34:40.392794Z"
    }
   },
   "outputs": [
    {
     "name": "stdout",
     "output_type": "stream",
     "text": [
      "['decide what kind of furniture you want to buy . decide what kind of furniture you want to buy . decide what kind of furniture you want to buy . decide what kind of furniture you want to buy . decide what kind of furniture you want to buy . decide what kind of furniture you want to buy . decide what kind of furniture you want to buy . decide what kind of furniture you want to buy . decide what kind of furniture you want to buy . decide what kind of furniture you want to buy . decide what kind of furniture you want to purchase . decide what kind of furniture you want to purchase . decide what kind of furniture you want to purchase . decide what kind of furniture you want to purchase . decide what kind of furniture you want to buy . decide what kind of furniture you want to buy . decide what kind of furniture you want to buy . decide what kind of furniture you want to buy . decide what kind of furniture you want to purchase . decide what kind of furniture you want to purchase . decide what kind of furniture you want to buy . decide what kind of furniture you want to buy . decide what kind of furniture you want to buy . decide what kind of furniture you want to buy . decide what kind of furniture you want to buy . decide what kind of furniture you want to purchase . decide what kind of furniture you want to buy . decide what kind of furniture you want to buy . decide what kind of furniture you want to buy . decide what kind of furniture you want to buy . decide what kind of furniture you want to buy . decide what kind of furniture you want to buy . decide what kind of furniture you want to buy . decide what kind of theme you want to buy . decide what kind of theme you want to purchase . decide what kind of furniture you want to buy . decide what kind of furniture you want to buy . decide what kind of furniture you want to buy . decide what kind of furniture you want to buy . decide what kind of furniture you want to buy . decide what kind of furniture you want to buy . decide what kind of furniture you want to buy . decide what kind of furniture you want to buy . decide what kind of furniture you want to buy . decide what kind of furniture you want to choose . decide what kind of theme you want to buy . decide what kind of theme you want to buy . decide what kind of furniture you want to buy . decide what kind of furniture you want to choose . decide what kind of theme you want to choose . decide what type of theme you want to choose .', 'decide what kind of furniture you want to buy . decide what kind of furniture you want to buy . decide what kind of furniture you want to buy . decide what kind of furniture you want to buy . decide what kind of furniture you want to buy . decide what kind of furniture you want to buy . decide what kind of furniture you want to buy . decide what kind of furniture you want to buy . decide what kind of furniture you want to buy . decide what kind of furniture you want to buy . decide what kind of furniture you want to purchase . decide what kind of furniture you want to purchase . decide what kind of furniture you want to purchase . decide what kind of furniture you want to purchase . decide what kind of furniture you want to buy . decide what kind of furniture you want to buy . decide what kind of furniture you want to buy . decide what kind of furniture you want to buy . decide what kind of furniture you want to purchase . decide what kind of furniture you want to purchase . decide what kind of furniture you want to buy . decide what kind of furniture you want to buy . decide what kind of furniture you want to buy . decide what kind of furniture you want to buy . decide what kind of furniture you want to buy . decide what kind of furniture you want to purchase . decide what kind of furniture you want to buy . decide what kind of furniture you want to buy . decide what kind of furniture you want to buy . decide what kind of furniture you want to buy . decide what kind of furniture you want to buy . decide what kind of furniture you want to buy . decide what kind of furniture you want to buy . decide what kind of theme you want to buy . decide what kind of theme you want to purchase . decide what kind of furniture you want to buy . decide what kind of furniture you want to buy . decide what kind of furniture you want to buy . decide what kind of furniture you want to buy . decide what kind of furniture you want to buy . decide what kind of furniture you want to buy . decide what kind of furniture you want to buy . decide what kind of furniture you want to buy . decide what kind of furniture you want to buy . decide what kind of furniture you want to choose . decide what kind of theme you want to buy . decide what kind of theme you want to buy . decide what kind of furniture you want to buy . decide what kind of furniture you want to choose . decide what kind of furniture you want to choose . decide what type of theme you want to choose .', 'decide what kind of furniture you want to buy . decide what kind of furniture you want to buy . decide what kind of furniture you want to buy . decide what kind of furniture you want to buy . decide what kind of furniture you want to buy . decide what kind of furniture you want to buy . decide what kind of furniture you want to buy . decide what kind of furniture you want to buy . decide what kind of furniture you want to buy . decide what kind of furniture you want to buy . decide what kind of furniture you want to purchase . decide what kind of furniture you want to purchase . decide what kind of furniture you want to purchase . decide what kind of furniture you want to purchase . decide what kind of furniture you want to buy . decide what kind of furniture you want to buy . decide what kind of furniture you want to buy . decide what kind of furniture you want to buy . decide what kind of furniture you want to purchase . decide what kind of furniture you want to purchase . decide what kind of furniture you want to buy . decide what kind of furniture you want to buy . decide what kind of furniture you want to buy . decide what kind of furniture you want to buy . decide what kind of furniture you want to buy . decide what kind of furniture you want to purchase . decide what kind of furniture you want to buy . decide what kind of furniture you want to buy . decide what kind of furniture you want to buy . decide what kind of furniture you want to buy . decide what kind of furniture you want to buy . decide what kind of furniture you want to buy . decide what kind of furniture you want to buy . decide what kind of theme you want to buy . decide what kind of theme you want to purchase . decide what kind of furniture you want to buy . decide what kind of furniture you want to buy . decide what kind of furniture you want to buy . decide what kind of furniture you want to buy . decide what kind of furniture you want to buy . decide what kind of furniture you want to buy . decide what kind of furniture you want to buy . decide what kind of furniture you want to buy . decide what kind of furniture you want to buy . decide what kind of furniture you want to choose . decide what kind of theme you want to buy . decide what kind of theme you want to buy . decide what kind of furniture you want to buy . decide what kind of furniture you want to choose . decide what kind of furniture you want to choose . decide what kind of theme you want to choose .']\n"
     ]
    }
   ],
   "source": [
    "text = \"\"\"\n",
    "this will help you decide what furniture to buy and what theme color scheme to choose . determine how many people will be using the living room on regular basis so that you can buy the appropriate sized couch and include the right number of seats , if applicable . account for the practical as well as the aesthetic uses of the room . consider how you will use the room as well as how you want it to look . keep both in mind as you plan your decorating budget . decide whether or not you want to have television set . if you do , then decide on where the television set will be placed before decorating avoid placing it in spot with excessive window glare . you may also need to buy an entertainment system or armoire to hold the television . having theme in mind is important when picking out new furniture so that you can achieve your desired aesthetic . you might also want to consider changing the color of your walls to match your preferences . consider the following ideas for living room themes warm tones . paint your walls cucumber green and buy yellow and orange accent pieces , which include arm chairs , throw pillows , and pieces of artwork . this color scheme creates warm , playful environment that is both colorful and settled . english country . this includes green , blue , red , or gray toile patterned wallpaper , chintz patterned accent pieces , shabby chic furniture , and elegant china . offset the splashes of color with neutral tones to avoid living room that is too busy . french country . like english country , this style combines colorful patterns like stripes and checkers with neutral tones . find vintage neutral toned french provincial pieces , and add deep red and blue accents . for more formal look , add elegant drapes and glass chandelier . modern contemporary style . modern design is very minimalist stick with neutral tones like beige , gray , and dark brown , and choose furniture with straight lines and smooth surfaces stay away from detailed embroidery or carvings . try long , shaped couch in beige with dark gray throw pillows and dark wooden rectangular coffee table . before buying any furniture , you should measure the length and width of your living room . determine where you want to position each piece of furniture and the proper measurements for that area . you should also measure the height of your ceiling if you plan on buying bookcase or armoire . regardless of what style or color scheme you choose , you will need the following items to complete your living room couch . consider getting one longer couch seating and one smaller one seating . place them perpendicular to one another . coffee table . this will serve as the centerpiece of the room , and can be used for magazines , books , television remotes ,\n",
    "\"\"\"\n",
    "\n",
    "summary = summarizer.summarize(\n",
    "    text=text,\n",
    "    beam_size=3,\n",
    "    nums=3,\n",
    "    max_pred_seq_length=512,\n",
    ")\n",
    "\n",
    "print(summary)\n"
   ]
  },
  {
   "cell_type": "code",
   "execution_count": 19,
   "metadata": {
    "execution": {
     "iopub.execute_input": "2024-11-19T01:35:42.910383Z",
     "iopub.status.busy": "2024-11-19T01:35:42.910089Z",
     "iopub.status.idle": "2024-11-19T01:35:44.154082Z",
     "shell.execute_reply": "2024-11-19T01:35:44.153111Z",
     "shell.execute_reply.started": "2024-11-19T01:35:42.910354Z"
    }
   },
   "outputs": [
    {
     "name": "stdout",
     "output_type": "stream",
     "text": [
      "['make sure you have an antique accent colour . paint your accent colour . put your couch in the morning .', 'make sure you have an antique accent colour . paint your accent colour . put your couch on your couch .', 'make sure you have an antique accent colour . paint your accent colour . put your couch on the morning .']\n"
     ]
    }
   ],
   "source": [
    "text = \"\"\"\n",
    "this will help you to know what is needed and the direction you want the room to take . having accents in your room will create the needed contrast and focal points . black is nice , stark contrast , which would make an even more elegant room , but you can use any colour you like the most . if you have dark room , you will need to layer many coats . use long , even strokes in all one direction , and do not touch the paint while it is drying . an antique or canopy bed in white would suit the theme nicely . get suitable bedspreads as well . you could use white or your chosen accent colour . again , an antique wood side table in white would suit the theme quite nicely . all furniture should be white or whitish , preferably antiques . you can paint wood white if needed . this should be white . you can put your books , dvds , and cds on them . this does not have to be antique , but crystal or fristal fake crystal would work very well . choose deep pile one that you can sink your feet into it when you get up in the morning . try rug in your accent colour . have it in white . place it beside your bed . they should be simple black velvet curtains held up by an accent colour ribbon . you could add wall mirror , wastebasket , etc . put them in black or silver frames . again , hang these in black and silver frames . your couch should be white leather , or pleather if you are vegan or cannot afford leather . put magazines and your favorite books on it . you could also have computer on there if you own one , or tv .\n",
    "\"\"\"\n",
    "\n",
    "summary = summarizer.summarize(\n",
    "    text=text,\n",
    "    beam_size=3,\n",
    "    nums=3,\n",
    "    max_pred_seq_length=512,\n",
    ")\n",
    "\n",
    "print(summary)"
   ]
  }
 ],
 "metadata": {
  "kaggle": {
   "accelerator": "none",
   "dataSources": [
    {
     "isSourceIdPinned": true,
     "modelId": 163913,
     "modelInstanceId": 141292,
     "sourceId": 166119,
     "sourceType": "modelInstanceVersion"
    }
   ],
   "dockerImageVersionId": 30786,
   "isGpuEnabled": false,
   "isInternetEnabled": true,
   "language": "python",
   "sourceType": "notebook"
  },
  "kernelspec": {
   "display_name": "Python 3 (ipykernel)",
   "language": "python",
   "name": "python3"
  },
  "language_info": {
   "codemirror_mode": {
    "name": "ipython",
    "version": 3
   },
   "file_extension": ".py",
   "mimetype": "text/x-python",
   "name": "python",
   "nbconvert_exporter": "python",
   "pygments_lexer": "ipython3",
   "version": "3.10.12"
  }
 },
 "nbformat": 4,
 "nbformat_minor": 4
}
