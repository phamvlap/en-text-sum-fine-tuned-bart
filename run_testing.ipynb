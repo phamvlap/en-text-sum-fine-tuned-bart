{
 "cells": [
  {
   "cell_type": "markdown",
   "metadata": {},
   "source": [
    "# Fetching"
   ]
  },
  {
   "cell_type": "code",
   "execution_count": null,
   "metadata": {
    "_cell_guid": "b1076dfc-b9ad-4769-8c92-a6c4dae69d19",
    "_uuid": "8f2839f25d086af736a60e9eeb907d3b93b6e0e5"
   },
   "outputs": [],
   "source": [
    "!git clone https://github.com/phamvlap/en-text-sum-fine-tuned-bart.git"
   ]
  },
  {
   "cell_type": "code",
   "execution_count": null,
   "metadata": {},
   "outputs": [],
   "source": [
    "!git clone https://huggingface.co/phamvlap/text-summarization-finetuned-bart"
   ]
  },
  {
   "cell_type": "markdown",
   "metadata": {},
   "source": [
    "# Set up"
   ]
  },
  {
   "cell_type": "code",
   "execution_count": null,
   "metadata": {},
   "outputs": [],
   "source": [
    "%cd en-text-sum-fine-tuned-bart\n",
    "\n",
    "import os, shutil\n",
    "\n",
    "for dir in ['tokenizer-bart', 'checkpoints']:\n",
    "    if os.path.exists(dir):\n",
    "        shutil.rmtree(dir)\n",
    "\n",
    "!mkdir tokenizer-bart checkpoints"
   ]
  },
  {
   "cell_type": "code",
   "execution_count": null,
   "metadata": {},
   "outputs": [],
   "source": [
    "!cp /kaggle/working/text-summarization-finetuned-bart/models/* /kaggle/working/en-text-sum-fine-tuned-bart/checkpoints/"
   ]
  },
  {
   "cell_type": "code",
   "execution_count": null,
   "metadata": {},
   "outputs": [],
   "source": [
    "!pip uninstall torchmetrics -y\n",
    "!pip install -r requirements.txt"
   ]
  },
  {
   "cell_type": "markdown",
   "metadata": {},
   "source": [
    "# Config"
   ]
  },
  {
   "cell_type": "code",
   "execution_count": null,
   "metadata": {},
   "outputs": [],
   "source": [
    "!cp /kaggle/working/text-summarization-finetuned-bart/setting_config.yaml /kaggle/working/en-text-sum-fine-tuned-bart/config/"
   ]
  },
  {
   "cell_type": "markdown",
   "metadata": {
    "execution": {
     "iopub.execute_input": "2024-11-17T06:00:14.906598Z",
     "iopub.status.busy": "2024-11-17T06:00:14.906214Z",
     "iopub.status.idle": "2024-11-17T06:00:14.911641Z",
     "shell.execute_reply": "2024-11-17T06:00:14.910720Z",
     "shell.execute_reply.started": "2024-11-17T06:00:14.906558Z"
    }
   },
   "source": [
    "# Load dataset"
   ]
  },
  {
   "cell_type": "code",
   "execution_count": null,
   "metadata": {},
   "outputs": [],
   "source": [
    "import pandas as pd\n",
    "from datasets import load_dataset\n",
    "\n",
    "dataset = load_dataset('phamvlap/wikihow')\n",
    "\n",
    "df = pd.DataFrame()\n",
    "\n",
    "for split in dataset:\n",
    "    df_split = pd.DataFrame(dataset[split])\n",
    "    df = pd.concat([df, df_split])\n",
    "\n",
    "!mkdir dataset\n",
    "\n",
    "df.to_csv('dataset/raw.csv')\n",
    "dataset['train'].to_csv('dataset/train.csv')\n",
    "dataset['validation'].to_csv('dataset/val.csv')\n",
    "dataset['test'].to_csv('dataset/test.csv')"
   ]
  },
  {
   "cell_type": "markdown",
   "metadata": {
    "execution": {
     "iopub.execute_input": "2024-11-17T06:00:59.795578Z",
     "iopub.status.busy": "2024-11-17T06:00:59.795187Z",
     "iopub.status.idle": "2024-11-17T06:00:59.799707Z",
     "shell.execute_reply": "2024-11-17T06:00:59.798758Z",
     "shell.execute_reply.started": "2024-11-17T06:00:59.795536Z"
    }
   },
   "source": [
    "# Get tokenizer"
   ]
  },
  {
   "cell_type": "code",
   "execution_count": null,
   "metadata": {},
   "outputs": [],
   "source": [
    "!cp /kaggle/working/text-summarization-finetuned-bart/merges.txt /kaggle/working/en-text-sum-fine-tuned-bart/tokenizer-bart/\n",
    "!cp /kaggle/working/text-summarization-finetuned-bart/special_tokens_map.json /kaggle/working/en-text-sum-fine-tuned-bart/tokenizer-bart/\n",
    "!cp /kaggle/working/text-summarization-finetuned-bart/tokenizer_config.json /kaggle/working/en-text-sum-fine-tuned-bart/tokenizer-bart/\n",
    "!cp /kaggle/working/text-summarization-finetuned-bart/vocab.json /kaggle/working/en-text-sum-fine-tuned-bart/tokenizer-bart/"
   ]
  },
  {
   "cell_type": "markdown",
   "metadata": {},
   "source": [
    "# Remove repo hub"
   ]
  },
  {
   "cell_type": "code",
   "execution_count": null,
   "metadata": {},
   "outputs": [],
   "source": [
    "!rm -r /kaggle/working/text-summarization-finetuned-bart"
   ]
  },
  {
   "cell_type": "markdown",
   "metadata": {},
   "source": [
    "# Testing"
   ]
  },
  {
   "cell_type": "code",
   "execution_count": null,
   "metadata": {},
   "outputs": [],
   "source": [
    "!python run_testing_model.py \\\n",
    "    --model_name_or_path='facebook/bart-base' \\\n",
    "    --batch_size_test=8 \\\n",
    "    --tgt_seq_length=512 \\\n",
    "    --max_eval_steps=100 \\\n",
    "    --use_stemmer \\\n",
    "    --accumulate='avg' \\\n",
    "    --beam_size=4 \\\n",
    "    --topk=3 \\\n",
    "    --statistic_dir='statistics' \\\n",
    "    --show_eval_progress \\\n",
    "    # --logging_steps \\\n",
    "    # --log_examples \\"
   ]
  }
 ],
 "metadata": {
  "kaggle": {
   "accelerator": "nvidiaTeslaT4",
   "dataSources": [
    {
     "datasetId": 5885723,
     "sourceId": 9909107,
     "sourceType": "datasetVersion"
    }
   ],
   "dockerImageVersionId": 30787,
   "isGpuEnabled": true,
   "isInternetEnabled": true,
   "language": "python",
   "sourceType": "notebook"
  },
  "kernelspec": {
   "display_name": "Python 3 (ipykernel)",
   "language": "python",
   "name": "python3"
  },
  "language_info": {
   "codemirror_mode": {
    "name": "ipython",
    "version": 3
   },
   "file_extension": ".py",
   "mimetype": "text/x-python",
   "name": "python",
   "nbconvert_exporter": "python",
   "pygments_lexer": "ipython3",
   "version": "3.10.12"
  }
 },
 "nbformat": 4,
 "nbformat_minor": 4
}
